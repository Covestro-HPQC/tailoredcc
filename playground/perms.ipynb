{
 "cells": [
  {
   "cell_type": "code",
   "execution_count": 15,
   "metadata": {},
   "outputs": [],
   "source": [
    "from itertools import permutations\n",
    "import numpy as np\n",
    "from pprint import pprint"
   ]
  },
  {
   "cell_type": "code",
   "execution_count": 54,
   "metadata": {},
   "outputs": [
    {
     "name": "stdout",
     "output_type": "stream",
     "text": [
      "2 [1, 3]\n",
      "{'abcijk,dl': ('dl,abcijk', (1, array([1, 2, 3, 0, 5, 6, 7, 4]))),\n",
      " 'abcijl,dk': ('dk,abcijl', (-1, array([1, 2, 3, 0, 5, 6, 4, 7]))),\n",
      " 'abcikl,dj': ('dj,abcikl', (1, array([1, 2, 3, 0, 5, 4, 6, 7]))),\n",
      " 'abcjkl,di': ('di,abcjkl', (-1, array([1, 2, 3, 0, 4, 5, 6, 7]))),\n",
      " 'abdijk,cl': ('cl,abdijk', (-1, array([1, 2, 0, 3, 5, 6, 7, 4]))),\n",
      " 'abdijl,ck': ('ck,abdijl', (1, array([1, 2, 0, 3, 5, 6, 4, 7]))),\n",
      " 'abdikl,cj': ('cj,abdikl', (-1, array([1, 2, 0, 3, 5, 4, 6, 7]))),\n",
      " 'abdjkl,ci': ('ci,abdjkl', (1, array([1, 2, 0, 3, 4, 5, 6, 7]))),\n",
      " 'acdijk,bl': ('bl,acdijk', (1, array([1, 0, 2, 3, 5, 6, 7, 4]))),\n",
      " 'acdijl,bk': ('bk,acdijl', (-1, array([1, 0, 2, 3, 5, 6, 4, 7]))),\n",
      " 'acdikl,bj': ('bj,acdikl', (1, array([1, 0, 2, 3, 5, 4, 6, 7]))),\n",
      " 'acdjkl,bi': ('bi,acdjkl', (-1, array([1, 0, 2, 3, 4, 5, 6, 7]))),\n",
      " 'ai,bcdjkl': ('ai,bcdjkl', (1, array([0, 1, 2, 3, 4, 5, 6, 7]))),\n",
      " 'aj,bcdikl': ('aj,bcdikl', (-1, array([0, 1, 2, 3, 5, 4, 6, 7]))),\n",
      " 'ak,bcdijl': ('ak,bcdijl', (1, array([0, 1, 2, 3, 5, 6, 4, 7]))),\n",
      " 'al,bcdijk': ('al,bcdijk', (-1, array([0, 1, 2, 3, 5, 6, 7, 4])))}\n",
      "16\n"
     ]
    }
   ],
   "source": [
    "from tailoredcc.amplitudes import compute_parity\n",
    "\n",
    "def get_term_permutation(contr, virt, occ):\n",
    "    contrv = [v for v in contr if v in virt]\n",
    "    contro = [o for o in contr if o in occ]\n",
    "    orderv = [contrv.index(v) for v in virt]\n",
    "    ordero = [contro.index(o) for o in occ]\n",
    "\n",
    "    s1 = compute_parity(orderv)\n",
    "    s2 = compute_parity(ordero)\n",
    "\n",
    "    perm = np.concatenate([np.array(orderv), np.array(ordero) + len(virt)])\n",
    "    return s1 * s2, perm\n",
    "\n",
    "# contraction = \"ai,bcjk\"\n",
    "# contraction = \"abij,cdkl\"\n",
    "# contraction = \"ai,bj,ck\"\n",
    "contraction = \"ai,bcdjkl\"\n",
    "\n",
    "cache = {}\n",
    "split = contraction.split(\",\")\n",
    "namps = len(split)\n",
    "amps_sizes = [len(x) // 2 for x in split]\n",
    "virt = 'abcd'\n",
    "occ = 'ijkl'\n",
    "for virtp in list(permutations(virt)):\n",
    "    for occp in list(permutations(occ)):\n",
    "        keys = []\n",
    "        offset = 0\n",
    "        perm_total = \"\"\n",
    "        for ii, vv in enumerate(split):\n",
    "            sz = amps_sizes[ii]\n",
    "            cstr = virtp[offset:offset + sz] + occp[offset:offset + sz]\n",
    "            offset += sz\n",
    "            sorted_set = sorted(set(cstr))\n",
    "            keys.append(\"\".join(sorted_set))\n",
    "            perm_total += \"\".join(cstr)\n",
    "        key = \",\".join(sorted(keys))\n",
    "        if key not in cache:\n",
    "            kk = \",\".join(keys)\n",
    "            cache[key] = kk, get_term_permutation(kk, virt, occ)\n",
    "pprint(cache)\n",
    "print(len(cache))"
   ]
  },
  {
   "cell_type": "code",
   "execution_count": null,
   "metadata": {},
   "outputs": [],
   "source": []
  }
 ],
 "metadata": {
  "interpreter": {
   "hash": "c9589b773b7f9090c896d9b891b51a894913cf435546fa5e033efd9b414db73f"
  },
  "kernelspec": {
   "display_name": "Python 3.9.16 ('tcc')",
   "language": "python",
   "name": "python3"
  },
  "language_info": {
   "codemirror_mode": {
    "name": "ipython",
    "version": 3
   },
   "file_extension": ".py",
   "mimetype": "text/x-python",
   "name": "python",
   "nbconvert_exporter": "python",
   "pygments_lexer": "ipython3",
   "version": "3.9.16"
  },
  "orig_nbformat": 4
 },
 "nbformat": 4,
 "nbformat_minor": 2
}
