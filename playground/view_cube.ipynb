{
 "cells": [
  {
   "cell_type": "code",
   "execution_count": 26,
   "metadata": {},
   "outputs": [
    {
     "data": {
      "application/vnd.jupyter.widget-view+json": {
       "model_id": "15cee55259cd48018694023d199c47b9",
       "version_major": 2,
       "version_minor": 0
      },
      "text/plain": [
       "NGLWidget()"
      ]
     },
     "metadata": {},
     "output_type": "display_data"
    }
   ],
   "source": [
    "from nglview import show_ase\n",
    "from ase.io import read\n",
    "\n",
    "# file = 'cubes/orb_1.0_6.cube'\n",
    "file = 'cubes/orb_5.714285714285714_6.cube'\n",
    "atoms = read(file)\n",
    "view = show_ase(atoms)\n",
    "\n",
    "# view.clear_representations()\n",
    "\n",
    "# Spin up\n",
    "view.add_component(file)\n",
    "view[1].clear()\n",
    "view[1].add_surface(negateIsolevel=False,\n",
    "                    color='lightgreen',\n",
    "                    opacity=0.8,\n",
    "                    # side='front'\n",
    "                    )\n",
    "\n",
    "# Spin down\n",
    "view.add_component(file)\n",
    "view[2].clear()\n",
    "view[2].add_surface(negateIsolevel=True,\n",
    "                    color='red',\n",
    "                    opacity=0.8,\n",
    "                    # side='front'\n",
    "                    )\n",
    "\n",
    "\n",
    "view.stage.set_parameters(**{\n",
    "    # \"percentages, \"dist\" is distance too camera in Angstrom\n",
    "    \"clipNear\": 0, \"clipFar\": 100, \"clipDist\": 0,\n",
    "    # percentages, start of fog and where on full effect\n",
    "    # \"fogNear\": 0, \"fogFar\": 100,\n",
    "    # background color\n",
    "    # \"backgroundColor\": \"black\",\n",
    "})\n",
    "view"
   ]
  },
  {
   "cell_type": "code",
   "execution_count": null,
   "metadata": {},
   "outputs": [],
   "source": []
  }
 ],
 "metadata": {
  "interpreter": {
   "hash": "55e48e524775dd99b83cf08973f23a61655111e3b84f383d632b8a31745f8386"
  },
  "kernelspec": {
   "display_name": "Python 3.8.15 ('qcware')",
   "language": "python",
   "name": "python3"
  },
  "language_info": {
   "codemirror_mode": {
    "name": "ipython",
    "version": 3
   },
   "file_extension": ".py",
   "mimetype": "text/x-python",
   "name": "python",
   "nbconvert_exporter": "python",
   "pygments_lexer": "ipython3",
   "version": "3.8.15"
  },
  "orig_nbformat": 4
 },
 "nbformat": 4,
 "nbformat_minor": 2
}
