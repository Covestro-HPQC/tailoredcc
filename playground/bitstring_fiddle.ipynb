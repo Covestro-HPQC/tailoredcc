{
 "cells": [
  {
   "cell_type": "code",
   "execution_count": 1,
   "metadata": {},
   "outputs": [],
   "source": [
    "from pyscf.fci import cistring\n",
    "import numpy as np"
   ]
  },
  {
   "cell_type": "code",
   "execution_count": 5,
   "metadata": {},
   "outputs": [
    {
     "name": "stdout",
     "output_type": "stream",
     "text": [
      "2002 2002\n"
     ]
    }
   ],
   "source": [
    "norb = 14\n",
    "nelec = 9\n",
    "\n",
    "strsa = cistring.make_strings(range(norb), nelec)\n",
    "\n",
    "# bss = [bin(x) for x in strsa]\n",
    "# print(bss)\n",
    "\n",
    "# addrs = cistring.strs2addr(norb, nelec, strsa)\n",
    "# print(addrs)\n",
    "\n",
    "ndet = cistring.num_strings(norb, nelec)\n",
    "print(ndet, len(strsa))\n",
    "\n",
    "civec = np.zeros((ndet, ndet))\n",
    "strsa = cistring._gen_occslst(range(norb), nelec)\n",
    "dets_cov = []\n",
    "for sa in strsa:\n",
    "    # alpha = np.zeros(norb, dtype=int)\n",
    "    # alpha[sa] = 1\n",
    "    for sb in strsa:\n",
    "        # beta = np.zeros(norb, dtype=int)\n",
    "        # beta[sb] = 1\n",
    "        # cdet = np.zeros(2 * norb, dtype=int)\n",
    "        # cdet[::2] = alpha\n",
    "        # cdet[1::2] = beta\n",
    "        # interleaved_string = \"\".join(np.char.mod(\"%d\", cdet))\n",
    "        # dets_cov.append(interleaved_string)\n",
    "        ia = sa\n",
    "        ib = sb\n",
    "        detstring = sum(int(a) * 2 ** (2 * int(idx)) for idx, a in enumerate(ia[2:][::-1])) + sum(\n",
    "            int(b) * 2 ** (2 * int(idx) + 1) for idx, b in enumerate(ib[2:][::-1])\n",
    "        )\n",
    "        detstring = bin(detstring)[2:][::-1]\n",
    "        diff = 2 * nact - len(detstring)\n",
    "        if diff > 0:\n",
    "            detstring += diff * \"0\"\n",
    "# print(dets_cov)\n",
    "# np.array(dets_cov).reshape(civec.shape)\n",
    "\n",
    "\n",
    "        "
   ]
  },
  {
   "cell_type": "code",
   "execution_count": null,
   "metadata": {},
   "outputs": [],
   "source": []
  }
 ],
 "metadata": {
  "interpreter": {
   "hash": "c9589b773b7f9090c896d9b891b51a894913cf435546fa5e033efd9b414db73f"
  },
  "kernelspec": {
   "display_name": "Python 3.9.16 ('tcc')",
   "language": "python",
   "name": "python3"
  },
  "language_info": {
   "codemirror_mode": {
    "name": "ipython",
    "version": 3
   },
   "file_extension": ".py",
   "mimetype": "text/x-python",
   "name": "python",
   "nbconvert_exporter": "python",
   "pygments_lexer": "ipython3",
   "version": "3.9.16"
  },
  "orig_nbformat": 4
 },
 "nbformat": 4,
 "nbformat_minor": 2
}
